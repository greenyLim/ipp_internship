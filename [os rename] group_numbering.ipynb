{
 "cells": [
  {
   "cell_type": "code",
   "execution_count": 3,
   "id": "20c815f4-f81b-4a3b-97d7-884a3907a7a8",
   "metadata": {},
   "outputs": [],
   "source": [
    "import os\n",
    "import re\n",
    "\n",
    "def rename_files(directory):\n",
    "    # 디렉토리 내의 파일 목록을 가져옴\n",
    "    files = os.listdir(directory)\n",
    "    \n",
    "    # 파일명을 숫자를 기준으로 정렬\n",
    "    files.sort(key=lambda x: int(re.search(r'^(\\d+)', x).group()))\n",
    "    \n",
    "    # 이전 파일명의 숫자 초기값\n",
    "    prev_num = None\n",
    "    # 넘버링 할 값 초기화\n",
    "    numbering = 63\n",
    "    \n",
    "    for file_name in files:\n",
    "        # 파일명에서 숫자를 찾음\n",
    "        num_match = file_name.split('_', 1)[0]\n",
    "        #print(num_match)\n",
    "        if num_match:\n",
    "            current_num = int(num_match)\n",
    "            # 현재 숫자가 이전 파일명의 숫자와 다를 경우 넘버링 초기화\n",
    "            if current_num != prev_num:\n",
    "                numbering += 1\n",
    "            # 파일명에서 숫자를 넘버링된 값으로 바꿈\n",
    "            new_file_name = f\"{numbering}. {file_name}\"\n",
    "            # 파일명 변경\n",
    "            os.rename(os.path.join(directory, file_name), os.path.join(directory, new_file_name))\n",
    "            \n",
    "            #new_file_name = re.sub(r'^\\d+', str(numbering).zfill(len(num_match.group())), file_name)\n",
    "            # 파일명 변경\n",
    "            #os.rename(os.path.join(directory, file_name), os.path.join(directory, new_file_name))\n",
    "\n",
    "            \n",
    "            # 이전 파일명의 숫자 업데이트\n",
    "            prev_num = current_num\n",
    "            # 넘버링 증가\n",
    "            #numbering += 1\n",
    "\n",
    "# 파일이 있는 디렉토리 경로 설정\n",
    "directory_path = r'C:\\Users\\Admin\\Downloads\\도전k\\2024_도전k_서울센터_서류(넘버링)'\n",
    "rename_files(directory_path)"
   ]
  },
  {
   "cell_type": "code",
   "execution_count": null,
   "id": "4b5c94db-248a-4cd0-bf7a-8821caba4485",
   "metadata": {},
   "outputs": [],
   "source": []
  }
 ],
 "metadata": {
  "kernelspec": {
   "display_name": "Python 3 (ipykernel)",
   "language": "python",
   "name": "python3"
  },
  "language_info": {
   "codemirror_mode": {
    "name": "ipython",
    "version": 3
   },
   "file_extension": ".py",
   "mimetype": "text/x-python",
   "name": "python",
   "nbconvert_exporter": "python",
   "pygments_lexer": "ipython3",
   "version": "3.12.2"
  }
 },
 "nbformat": 4,
 "nbformat_minor": 5
}
