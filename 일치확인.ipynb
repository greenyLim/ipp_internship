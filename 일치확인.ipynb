{
 "cells": [
  {
   "cell_type": "code",
   "execution_count": 2,
   "id": "ce6a124d-4e3a-401d-a996-349ba48b6fd0",
   "metadata": {},
   "outputs": [],
   "source": [
    "import pandas as pd\n",
    "\n",
    "def find_mismatch_indices(df1, df2):\n",
    "    mismatch_indices = {}\n",
    "    for column in df1.columns:\n",
    "        mismatch_indices[column] = df1.index[df1[column] != df2[column]].tolist()\n",
    "    return mismatch_indices"
   ]
  },
  {
   "cell_type": "code",
   "execution_count": 15,
   "id": "b6e30cd2-e6b4-4d7b-bd5e-7c845c317955",
   "metadata": {},
   "outputs": [],
   "source": [
    "df1=pd.read_csv('7분과목록.csv')\n",
    "df2=pd.read_csv('7분과서류평가.csv')"
   ]
  },
  {
   "cell_type": "code",
   "execution_count": 16,
   "id": "9cfa9ef7-6b0e-48ec-b3b3-6a30bf0ad0b3",
   "metadata": {},
   "outputs": [
    {
     "name": "stdout",
     "output_type": "stream",
     "text": [
      "Column '과제번호': No mismatch\n",
      "Column '창업아이템명': No mismatch\n",
      "Column '기업명': No mismatch\n",
      "Column '이름': No mismatch\n"
     ]
    }
   ],
   "source": [
    "# 두 DataFrame 비교\n",
    "mismatch_indices = find_mismatch_indices(df1, df2)\n",
    "\n",
    "# 각 열에서 일치하지 않는 인덱스 출력\n",
    "for column, indices in mismatch_indices.items():\n",
    "    if indices:\n",
    "        print(f\"Column '{column}': Mismatch at indices {indices}\")\n",
    "    else:\n",
    "        print(f\"Column '{column}': No mismatch\")"
   ]
  },
  {
   "cell_type": "code",
   "execution_count": null,
   "id": "5fe3747d-27b0-4106-9540-6b15da22bd4a",
   "metadata": {},
   "outputs": [],
   "source": []
  }
 ],
 "metadata": {
  "kernelspec": {
   "display_name": "Python 3 (ipykernel)",
   "language": "python",
   "name": "python3"
  },
  "language_info": {
   "codemirror_mode": {
    "name": "ipython",
    "version": 3
   },
   "file_extension": ".py",
   "mimetype": "text/x-python",
   "name": "python",
   "nbconvert_exporter": "python",
   "pygments_lexer": "ipython3",
   "version": "3.12.2"
  }
 },
 "nbformat": 4,
 "nbformat_minor": 5
}
